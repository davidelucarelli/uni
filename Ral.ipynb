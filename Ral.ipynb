{
 "cells": [
  {
   "cell_type": "code",
   "execution_count": 3,
   "id": "86a6dd08-9438-4e8a-b919-5ff1cd577ab5",
   "metadata": {},
   "outputs": [
    {
     "name": "stdin",
     "output_type": "stream",
     "text": [
      "insert client age:  30\n",
      "insert client degree (graduated or non graduated):  non graduated\n"
     ]
    },
    {
     "name": "stdout",
     "output_type": "stream",
     "text": [
      "30\n",
      "rejected\n"
     ]
    }
   ],
   "source": [
    "class rater(object):\n",
    "\t\n",
    "\tdef __init__(self, age, study):\n",
    "\t\tself.age=age\n",
    "\t\tself.study=study\n",
    "\n",
    "\tdef scorecalc(self):\n",
    "\t\tif self.age< 40:\n",
    "\t\t\tage_score=10\n",
    "\t\telse:\n",
    "\t\t\t age_score=30\n",
    "\t\tif self.study ==\"graduated\":\n",
    "\t\t\tstudy_score=50\n",
    "\t\telse:\n",
    "\t\t\t study_score=20\n",
    "\t\tself.score=age_score+study_score\n",
    "\t\treturn self.score\n",
    "\t\t\n",
    "\tdef erogator(self):\n",
    "\t\tif self.score >=50:\n",
    "\t\t\ttransaction = \"approved\"\n",
    "\t\telse: \n",
    "\t\t\ttransaction = \"rejected\"\n",
    "\t\treturn transaction\n",
    "\n",
    "rating_davide=rater(int(input('insert client age: ')),input('insert client degree (graduated or non graduated): '))\n",
    "\n",
    "print(rating_davide.scorecalc())\n",
    "\n",
    "print(rating_davide.erogator())"
   ]
  }
 ],
 "metadata": {
  "kernelspec": {
   "display_name": "Python 3 (ipykernel)",
   "language": "python",
   "name": "python3"
  },
  "language_info": {
   "codemirror_mode": {
    "name": "ipython",
    "version": 3
   },
   "file_extension": ".py",
   "mimetype": "text/x-python",
   "name": "python",
   "nbconvert_exporter": "python",
   "pygments_lexer": "ipython3",
   "version": "3.9.7"
  }
 },
 "nbformat": 4,
 "nbformat_minor": 5
}
