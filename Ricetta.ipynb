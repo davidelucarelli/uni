{
 "cells": [
  {
   "cell_type": "markdown",
   "id": "2df7395c-2cb3-42cf-9dcc-b7d09a8f9264",
   "metadata": {},
   "source": [
    "# Pancake allo sciroppo d'acero"
   ]
  },
  {
   "cell_type": "markdown",
   "id": "d4f8b928-3039-4d1e-9b63-e2bd27b106bf",
   "metadata": {},
   "source": [
    "![](C:\\Users\\Davide\\Downloads\\2.jpg)"
   ]
  },
  {
   "cell_type": "markdown",
   "id": "161838e4-3c02-4134-9cdd-aa48aed12c1c",
   "metadata": {},
   "source": [
    "_Preferisci vedere il [video della preparazione?](https://www.youtube.com/watch?v=NfY9xRNLPIk)_"
   ]
  },
  {
   "cell_type": "markdown",
   "id": "e16e798d-eb3d-4e0f-9821-71d23e717b7f",
   "metadata": {},
   "source": [
    "_____"
   ]
  },
  {
   "cell_type": "markdown",
   "id": "a72cca16-b556-4130-9ea1-c888912051aa",
   "metadata": {},
   "source": [
    "## PRESENTAZIONE"
   ]
  },
  {
   "cell_type": "markdown",
   "id": "e65e6077-bb80-4e43-9ad6-a5087ee66829",
   "metadata": {},
   "source": [
    "_<font color='red'>Se state progettando un viaggio negli Stati Uniti, preparatevi a degustare il tradizionale american breakfast con i deliziosi pancake, piccoli dischi spugnosi e saporiti che non aspettano altro che essere farciti con le leccornie più invitanti: la tradizione li vuole conditi con il tipico sciroppo d’acero, un dolcificante naturale con un gusto che ricorda quello del miele, usato anche per i [fluffy](https://ricette.giallozafferano.it/Fluffy-pancake.html) pancake. Ma accanto a questo tipico abbinamento sono ammesse tutte le varianti possibili, a patto che siano super golose: dalla frutta fresca o sciroppata, alle creme fino alle salse al cioccolato. Potrete anche realizzare una versione con lo yogurt, [light](https://ricette.giallozafferano.it/Pancake-light.html) e poco calorica, oppure una versione [proteica](https://ricette.giallozafferano.it/Pancake-proteici.html), ideali per gli sportivi. Gli americani non si fanno mancare proprio nulla e spesso accompagnano il piatto di pancake con ciuffi di panna montata, come si fa a resistere? Di sicuro avrete già l’acquolina in bocca, se non volete aspettare la colazione potete preparare i pancake anche per merenda, ecco la nostra ricetta!_</font>"
   ]
  },
  {
   "cell_type": "markdown",
   "id": "7aa42dbd-2965-4cc0-84e3-f9cb4f8da9e9",
   "metadata": {
    "tags": []
   },
   "source": [
    "_________"
   ]
  },
  {
   "cell_type": "markdown",
   "id": "2486c043-1cff-4c2a-b011-485f43799ec2",
   "metadata": {},
   "source": [
    "### INGREDIENTI "
   ]
  },
  {
   "cell_type": "code",
   "execution_count": 103,
   "id": "9ad370e5-828c-4580-936c-f3ad6aa7c918",
   "metadata": {},
   "outputs": [
    {
     "name": "stdin",
     "output_type": "stream",
     "text": [
      "Per quante persone devi cucinare? 4\n"
     ]
    },
    {
     "name": "stdout",
     "output_type": "stream",
     "text": [
      "Burro(g)= 25.0\n",
      "Uova medie= 2.0\n",
      "Lievito per dolci(g)= 6.0\n",
      "Farina(g)= 125.0\n",
      "Latte intero(ml)= 200.0\n",
      "Zucchero(g)= 15.0\n",
      "Sciroppo di acero q.b.\n"
     ]
    }
   ],
   "source": [
    "Persone=int(input('Per quante persone devi cucinare?'))\n",
    "burro=(Persone*25)/4\n",
    "uova=(Persone*2)/4\n",
    "lievito=(Persone*6)/4\n",
    "farina=(Persone*125)/4\n",
    "latte=(Persone*200)/4\n",
    "zucchero=(Persone*15)/4\n",
    "print (\"Burro(g)=\", burro)\n",
    "print (\"Uova medie=\", uova)\n",
    "print (\"Lievito per dolci(g)=\" ,lievito)\n",
    "print (\"Farina(g)=\", farina)\n",
    "print (\"Latte intero(ml)=\", latte)\n",
    "print (\"Zucchero(g)=\", zucchero)\n",
    "print (\"Sciroppo di acero q.b.\")"
   ]
  },
  {
   "cell_type": "markdown",
   "id": "3c585c35-6a08-4e97-91c7-65d9074b3596",
   "metadata": {},
   "source": [
    "________"
   ]
  },
  {
   "cell_type": "markdown",
   "id": "cfecfe5b-ad9d-4d0d-aa19-c53c88ba934a",
   "metadata": {},
   "source": [
    "## PREPARAZIONE\n",
    "_Come preparare i pancake allo sciroppo d'acero_"
   ]
  },
  {
   "cell_type": "markdown",
   "id": "d6caf496-2f9f-455b-a3be-1712484189bb",
   "metadata": {},
   "source": [
    "![](C:\\Users\\Davide\\Downloads\\1.jpg \"prep1\")"
   ]
  },
  {
   "cell_type": "markdown",
   "id": "19ad20bc-d779-4789-85cb-65f5e2bc8ee4",
   "metadata": {},
   "source": [
    "_Iniziamo la preparazione dei pancake fondendo il burro a fuoco bassissimo, quindi lasciate intiepidire. Intanto dividete gli albumi dai tuorli. Versate i tuorli in una ciotola e sbatteteli con una frusta a mano 1, poi unite il burro fuso a temperatura ambiente 2 e il latte a filo, continuando sempre a mescolare con la frusta 3. Montate il composto finchè non risulterà chiaro._"
   ]
  },
  {
   "cell_type": "markdown",
   "id": "6824cd93-9d9d-4ba8-98fb-d6ecb271d822",
   "metadata": {},
   "source": [
    "![](C:\\Users\\Davide\\Downloads\\3.jpg)"
   ]
  },
  {
   "cell_type": "markdown",
   "id": "4eace41c-9aad-4c9a-9d59-e9ac136cb89f",
   "metadata": {},
   "source": [
    "_Unite il lievito alla farina 4 e setacciate tutto nella ciotola con il composto di uova 5, mescolate con la frusta per amalgamare 6._"
   ]
  },
  {
   "cell_type": "markdown",
   "id": "f3cca3c5-3df5-49d0-a9c7-b62cde1c77e8",
   "metadata": {},
   "source": [
    "![](C:\\Users\\Davide\\Downloads\\4.jpg)"
   ]
  },
  {
   "cell_type": "markdown",
   "id": "daca7647-76d5-4532-b453-0103fc049a36",
   "metadata": {},
   "source": [
    "_Ora montate gli albumi che avete tenuto da parte, versando poco alla volta lo zucchero 7 e quando saranno bianchi e spumosi incorporateli delicatamente al composto di uova, con movimenti dall'alto verso il basso, per evitare di smontarli 8. Mettete a scaldare sul fuoco medio (non alto altrimenti non darete il tempo all'impasto di lievitare bene durante la cottura e i pancake diventeranno troppo scuri) una padella ampia antiaderente (meglio se a fondo spesso) e, se necessario, ungete con poco burro da spandere sulla superficie con l'aiuto di carta da cucina. Versate al centro del pentolino un mestolino di preparato 9, non ci sarà bisogno di spanderlo._"
   ]
  },
  {
   "cell_type": "markdown",
   "id": "01538194-3d06-4241-9fea-e33c7edddf04",
   "metadata": {},
   "source": [
    "![](C:\\Users\\Davide\\Downloads\\5.jpg)"
   ]
  },
  {
   "cell_type": "markdown",
   "id": "5d240881-0d48-4fa2-8159-8cd94bf8801c",
   "metadata": {},
   "source": [
    "_Quando inizieranno a comparire delle bollicine in superficie e la base sarà dorata, giratelo sull’altro lato per mezzo di una spatolina 10, come se fosse una crepe o una frittata, quindi fate dorare a sua volta anche l'altro lato, dopodichè il pancake sarà pronto 11. Proseguite così con il resto dell'impasto e man a mano disponete i pancake su un piatto da portata, impilateli uno sopra l'altro. Con queste dosi dovrebbero formarsi all'incirca 12 pancake. Serviteli caldi e cosparsi di sciroppo d’acero 12. Potete accompagnare i pancake con della frutta fresca o sciroppata di vostro gusto._"
   ]
  },
  {
   "cell_type": "markdown",
   "id": "88652d0b-2874-48b5-90a6-2bf300390d72",
   "metadata": {},
   "source": [
    "______"
   ]
  },
  {
   "cell_type": "markdown",
   "id": "b1e5bdc7-ff91-41ff-a6d9-e74884a09322",
   "metadata": {},
   "source": [
    "## CONSERVAZIONE"
   ]
  },
  {
   "cell_type": "markdown",
   "id": "f3ba84d6-d204-4cf4-b3b9-5b7562f0f5ea",
   "metadata": {},
   "source": [
    "_Si consiglia di consumare subito i pancake, oppure di conservarli in frigorifero per un giorno al massimo. Si sconsiglia la congelazione.\n",
    "L'impasto si può conservare in frigorifero coperto con pellicola per un massimo di 12 ore._"
   ]
  },
  {
   "cell_type": "markdown",
   "id": "2e3e18b0-7d02-42d5-8006-f1f6be3e239f",
   "metadata": {},
   "source": [
    "_________"
   ]
  },
  {
   "cell_type": "markdown",
   "id": "40c64225-7703-40ae-bee8-07774f4abd4b",
   "metadata": {},
   "source": [
    "## CONSIGLIO"
   ]
  },
  {
   "cell_type": "markdown",
   "id": "6ef89d87-6990-4275-bcc6-4eb92a888859",
   "metadata": {},
   "source": [
    "_Per guarnire o accompagnare i pancake, oltre allo sciroppo d’acero (Maple Syrup) usato dagli americani per la maggiore, potete usare miele, Nutella, creme varie, burro d’arachidi, marmellate, panna semi-montata o acida, frutta fresca o sciroppata!_"
   ]
  },
  {
   "cell_type": "markdown",
   "id": "3afc268f-1b21-465d-90dc-fd573ab919a0",
   "metadata": {},
   "source": [
    "_______"
   ]
  },
  {
   "cell_type": "markdown",
   "id": "be1b5a6c-1ec7-4fc8-b072-399c2ddbb9c2",
   "metadata": {},
   "source": [
    "## CURIOSITA'"
   ]
  },
  {
   "cell_type": "markdown",
   "id": "6331db49-5757-412a-9f28-26a3cb086cbb",
   "metadata": {},
   "source": [
    "_Per i molti lettori di Disney: i pancake non sono altro che le note frittelle di Paperino, che da bravo zio preparava con cura ai tre nipotini Qui, Quo e Qua!_"
   ]
  },
  {
   "cell_type": "markdown",
   "id": "fd2003e0-f4c1-45fa-b719-6326705d7b24",
   "metadata": {},
   "source": [
    "______"
   ]
  },
  {
   "cell_type": "markdown",
   "id": "bf39e72a-312e-437e-8c91-054af19f4bbb",
   "metadata": {},
   "source": [
    "## _<font color=\"GREEN\"> Quando hai qualche dubbio su cosa mangiare o su come cucinarlo basta cercare [giallo zafferano](https://www.giallozafferano.it)</font>_"
   ]
  }
 ],
 "metadata": {
  "kernelspec": {
   "display_name": "Python 3 (ipykernel)",
   "language": "python",
   "name": "python3"
  },
  "language_info": {
   "codemirror_mode": {
    "name": "ipython",
    "version": 3
   },
   "file_extension": ".py",
   "mimetype": "text/x-python",
   "name": "python",
   "nbconvert_exporter": "python",
   "pygments_lexer": "ipython3",
   "version": "3.9.7"
  }
 },
 "nbformat": 4,
 "nbformat_minor": 5
}
